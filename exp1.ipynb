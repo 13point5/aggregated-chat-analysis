{
 "cells": [
  {
   "cell_type": "code",
   "execution_count": 1,
   "metadata": {},
   "outputs": [],
   "source": [
    "import os\n",
    "import json\n",
    "from openai import OpenAI\n",
    "import instructor\n",
    "from pydantic import BaseModel, Field\n",
    "from typing import List\n",
    "import numpy as np\n",
    "from utils import get_structured_feedback, remove_duplicates, Evaluation, CriteraFeedback"
   ]
  },
  {
   "cell_type": "code",
   "execution_count": 2,
   "metadata": {},
   "outputs": [],
   "source": [
    "openai_client = OpenAI(\n",
    "    api_key=os.environ.get(\"OPENAI_API_KEY\"),\n",
    ")\n",
    "\n",
    "instructor_client = instructor.from_openai(openai_client)"
   ]
  },
  {
   "cell_type": "code",
   "execution_count": 3,
   "metadata": {},
   "outputs": [
    {
     "name": "stdout",
     "output_type": "stream",
     "text": [
      "Strings: ['Clear and logical organization of the essay', 'Clear and logical organization']\n",
      "Similarity matrix: [[1.         0.81707956]\n",
      " [0.81707956 1.        ]]\n",
      "Threshold: 0.8170795552569061\n",
      "\n"
     ]
    },
    {
     "data": {
      "text/plain": [
       "['Clear and logical organization of the essay']"
      ]
     },
     "execution_count": 3,
     "metadata": {},
     "output_type": "execute_result"
    }
   ],
   "source": [
    "remove_duplicates(openai_client=openai_client, strings=['Clear and logical organization of the essay', 'Clear and logical organization'])"
   ]
  },
  {
   "cell_type": "code",
   "execution_count": 5,
   "metadata": {},
   "outputs": [],
   "source": [
    "# read messages from user1-messages.json\n",
    "with open(\"user1-messages.json\", \"r\") as f:\n",
    "\tchat_history = json.load(f)"
   ]
  },
  {
   "cell_type": "markdown",
   "metadata": {},
   "source": [
    "### Storing all evaluations from a conversation"
   ]
  },
  {
   "cell_type": "code",
   "execution_count": 6,
   "metadata": {},
   "outputs": [],
   "source": [
    "feedbacks = get_structured_feedback(instructor_client, chat_history)"
   ]
  },
  {
   "cell_type": "code",
   "execution_count": 7,
   "metadata": {},
   "outputs": [
    {
     "data": {
      "text/plain": [
       "[Evaluation(introduction=CriteraFeedback(strengths=['Clear and compelling framing of the argument on environmental conservation'], weaknesses=[], suggestions=[]), structure=CriteraFeedback(strengths=['Thoughtful organization of the essay from the importance of conservation to specific examples'], weaknesses=['Consider developing the counterargument section further', 'Add transition sentences between paragraphs for better flow'], suggestions=['Develop counterargument with more details or statistics', 'Include transition sentences for seamless flow']), argumentation=CriteraFeedback(strengths=['Use of examples like protecting natural habitats and global warming to solidify the argument'], weaknesses=[], suggestions=[]), evidence=CriteraFeedback(strengths=['Use of examples to strengthen the argument'], weaknesses=[], suggestions=[]), conclusion=CriteraFeedback(strengths=['Effective restatement of thesis and summary of main points'], weaknesses=[], suggestions=[])),\n",
       " Evaluation(introduction=CriteraFeedback(strengths=['Clear and compelling framing of the argument in the introduction and conclusion', 'Thoughtful organization of the essay structure'], weaknesses=[], suggestions=[]), structure=CriteraFeedback(strengths=['Clear and logical organization of paragraphs'], weaknesses=['Consider enhancing the transition sentences between paragraphs'], suggestions=['Consider enhancing the transition sentences between paragraphs']), argumentation=CriteraFeedback(strengths=['Use of examples to solidify the argument'], weaknesses=['Consider developing the counterargument section with more details or statistics to strengthen the position'], suggestions=['Consider developing the counterargument section with more details or statistics to strengthen the position']), evidence=CriteraFeedback(strengths=['Use of examples like protecting natural habitats and global warming impact to solidify the argument'], weaknesses=[], suggestions=[]), conclusion=CriteraFeedback(strengths=[], weaknesses=[], suggestions=[])),\n",
       " Evaluation(introduction=CriteraFeedback(strengths=['Effectively framing the argument in the introduction and conclusion'], weaknesses=[], suggestions=['Consider developing the counterargument section further']), structure=CriteraFeedback(strengths=['Clear and logical organization of the essay'], weaknesses=['Consider adding transition sentences between paragraphs'], suggestions=['Add transition sentences to improve the flow of the essay']), argumentation=CriteraFeedback(strengths=['Use of examples to solidify the argument'], weaknesses=['Consider providing more details or statistics in the counterargument section'], suggestions=['Add more details or statistics to strengthen the counterargument']), evidence=CriteraFeedback(strengths=['Use of examples like protecting natural habitats and global warming impact'], weaknesses=[], suggestions=[]), conclusion=CriteraFeedback(strengths=[], weaknesses=[], suggestions=['Ensure every sentence in the conclusion contributes to the argument or explanation']))]"
      ]
     },
     "execution_count": 7,
     "metadata": {},
     "output_type": "execute_result"
    }
   ],
   "source": [
    "feedbacks"
   ]
  },
  {
   "cell_type": "markdown",
   "metadata": {},
   "source": [
    "### Combining evaluations from a chat session to remove duplicates"
   ]
  },
  {
   "cell_type": "code",
   "execution_count": 8,
   "metadata": {},
   "outputs": [],
   "source": [
    "def aggregate_feedback(feedbacks: List[Evaluation]):\n",
    "    # Initialize lists for each feedback category\n",
    "    aggregated = {\n",
    "        \"introduction\": {\"strengths\": [], \"weaknesses\": [], \"suggestions\": []},\n",
    "        \"structure\": {\"strengths\": [], \"weaknesses\": [], \"suggestions\": []},\n",
    "        \"argumentation\": {\"strengths\": [], \"weaknesses\": [], \"suggestions\": []},\n",
    "        \"evidence\": {\"strengths\": [], \"weaknesses\": [], \"suggestions\": []},\n",
    "        \"conclusion\": {\"strengths\": [], \"weaknesses\": [], \"suggestions\": []}\n",
    "    }\n",
    "    \n",
    "    # Aggregate all feedbacks\n",
    "    for feedback in feedbacks:\n",
    "        for key in aggregated:\n",
    "            critera_feedback = getattr(feedback, key)\n",
    "            aggregated[key]['strengths'].extend(critera_feedback.strengths)\n",
    "            aggregated[key]['weaknesses'].extend(critera_feedback.weaknesses)\n",
    "            aggregated[key]['suggestions'].extend(critera_feedback.suggestions)\n",
    "    \n",
    "    # Deduplicate lists\n",
    "    for key in aggregated:\n",
    "        for subkey in aggregated[key]:\n",
    "            aggregated[key][subkey] = remove_duplicates(openai_client, aggregated[key][subkey])\n",
    "\n",
    "    # Construct a new Evaluation object\n",
    "    return Evaluation(\n",
    "        introduction=CriteraFeedback(**aggregated['introduction']),\n",
    "        structure=CriteraFeedback(**aggregated['structure']),\n",
    "        argumentation=CriteraFeedback(**aggregated['argumentation']),\n",
    "        evidence=CriteraFeedback(**aggregated['evidence']),\n",
    "        conclusion=CriteraFeedback(**aggregated['conclusion'])\n",
    "    )"
   ]
  },
  {
   "cell_type": "code",
   "execution_count": 9,
   "metadata": {},
   "outputs": [
    {
     "name": "stdout",
     "output_type": "stream",
     "text": [
      "Strings: ['Clear and compelling framing of the argument on environmental conservation', 'Clear and compelling framing of the argument in the introduction and conclusion', 'Thoughtful organization of the essay structure', 'Effectively framing the argument in the introduction and conclusion']\n",
      "Similarity matrix: [[1.         0.62856473 0.37782844 0.52671438]\n",
      " [0.62856473 1.         0.51110325 0.88345688]\n",
      " [0.37782844 0.51110325 1.         0.53058314]\n",
      " [0.52671438 0.88345688 0.53058314 1.        ]]\n",
      "Threshold: 0.7319746548059236\n",
      "\n",
      "Strings: ['Consider developing the counterargument section further']\n",
      "Similarity matrix: [[1.]]\n",
      "Threshold: nan\n",
      "\n"
     ]
    },
    {
     "name": "stderr",
     "output_type": "stream",
     "text": [
      "/Users/13point5/Library/Caches/pypoetry/virtualenvs/magicschool-backend-VB4VKBHD-py3.11/lib/python3.11/site-packages/numpy/core/fromnumeric.py:3504: RuntimeWarning: Mean of empty slice.\n",
      "  return _methods._mean(a, axis=axis, dtype=dtype,\n",
      "/Users/13point5/Library/Caches/pypoetry/virtualenvs/magicschool-backend-VB4VKBHD-py3.11/lib/python3.11/site-packages/numpy/core/_methods.py:129: RuntimeWarning: invalid value encountered in scalar divide\n",
      "  ret = ret.dtype.type(ret / rcount)\n",
      "/Users/13point5/Library/Caches/pypoetry/virtualenvs/magicschool-backend-VB4VKBHD-py3.11/lib/python3.11/site-packages/numpy/core/_methods.py:206: RuntimeWarning: Degrees of freedom <= 0 for slice\n",
      "  ret = _var(a, axis=axis, dtype=dtype, out=out, ddof=ddof,\n",
      "/Users/13point5/Library/Caches/pypoetry/virtualenvs/magicschool-backend-VB4VKBHD-py3.11/lib/python3.11/site-packages/numpy/core/_methods.py:163: RuntimeWarning: invalid value encountered in divide\n",
      "  arrmean = um.true_divide(arrmean, div, out=arrmean,\n",
      "/Users/13point5/Library/Caches/pypoetry/virtualenvs/magicschool-backend-VB4VKBHD-py3.11/lib/python3.11/site-packages/numpy/core/_methods.py:198: RuntimeWarning: invalid value encountered in scalar divide\n",
      "  ret = ret.dtype.type(ret / rcount)\n"
     ]
    },
    {
     "name": "stdout",
     "output_type": "stream",
     "text": [
      "Strings: ['Thoughtful organization of the essay from the importance of conservation to specific examples', 'Clear and logical organization of paragraphs', 'Clear and logical organization of the essay']\n",
      "Similarity matrix: [[1.         0.46101496 0.60352818]\n",
      " [0.46101496 1.         0.80592049]\n",
      " [0.60352818 0.80592049 1.        ]]\n",
      "Threshold: 0.7650005338986422\n",
      "\n",
      "Strings: ['Consider developing the counterargument section further', 'Add transition sentences between paragraphs for better flow', 'Consider enhancing the transition sentences between paragraphs', 'Consider adding transition sentences between paragraphs']\n",
      "Similarity matrix: [[1.         0.30751865 0.44118206 0.40139504]\n",
      " [0.30751865 1.         0.82514842 0.86408588]\n",
      " [0.44118206 0.82514842 1.         0.89971539]\n",
      " [0.40139504 0.86408588 0.89971539 1.        ]]\n",
      "Threshold: 0.8671867427526172\n",
      "\n",
      "Strings: ['Develop counterargument with more details or statistics', 'Include transition sentences for seamless flow', 'Consider enhancing the transition sentences between paragraphs', 'Add transition sentences to improve the flow of the essay']\n",
      "Similarity matrix: [[1.         0.2591521  0.3495829  0.36864738]\n",
      " [0.2591521  1.         0.74140383 0.80331341]\n",
      " [0.3495829  0.74140383 1.         0.78305537]\n",
      " [0.36864738 0.80331341 0.78305537 1.        ]]\n",
      "Threshold: 0.7791724605361181\n",
      "\n",
      "Strings: ['Use of examples like protecting natural habitats and global warming to solidify the argument', 'Use of examples to solidify the argument', 'Use of examples to solidify the argument']\n",
      "Similarity matrix: [[1.         0.70315619 0.70315619]\n",
      " [0.70315619 1.         1.        ]\n",
      " [0.70315619 1.         1.        ]]\n",
      "Threshold: 0.9420376403932882\n",
      "\n",
      "Strings: ['Consider developing the counterargument section with more details or statistics to strengthen the position', 'Consider providing more details or statistics in the counterargument section']\n",
      "Similarity matrix: [[1.         0.84329908]\n",
      " [0.84329908 1.        ]]\n",
      "Threshold: 0.8432990819801629\n",
      "\n",
      "Strings: ['Consider developing the counterargument section with more details or statistics to strengthen the position', 'Add more details or statistics to strengthen the counterargument']\n",
      "Similarity matrix: [[1.         0.82979145]\n",
      " [0.82979145 1.        ]]\n",
      "Threshold: 0.8297914514020905\n",
      "\n",
      "Strings: ['Use of examples to strengthen the argument', 'Use of examples like protecting natural habitats and global warming impact to solidify the argument', 'Use of examples like protecting natural habitats and global warming impact']\n",
      "Similarity matrix: [[1.         0.68087079 0.56508889]\n",
      " [0.68087079 1.         0.91953674]\n",
      " [0.56508889 0.91953674 1.        ]]\n",
      "Threshold: 0.8694051570339467\n",
      "\n",
      "Strings: ['Effective restatement of thesis and summary of main points']\n",
      "Similarity matrix: [[1.]]\n",
      "Threshold: nan\n",
      "\n",
      "Strings: ['Ensure every sentence in the conclusion contributes to the argument or explanation']\n",
      "Similarity matrix: [[1.]]\n",
      "Threshold: nan\n",
      "\n"
     ]
    }
   ],
   "source": [
    "aggregated_feedback = aggregate_feedback(feedbacks)"
   ]
  },
  {
   "cell_type": "markdown",
   "metadata": {},
   "source": [
    "### Semantic deduplication doesn't seem to work with a dynamic threshold"
   ]
  },
  {
   "cell_type": "code",
   "execution_count": 10,
   "metadata": {},
   "outputs": [
    {
     "name": "stdout",
     "output_type": "stream",
     "text": [
      "introduction:\n",
      "Strengths: ['Clear and compelling framing of the argument on environmental conservation']\n",
      "Weaknesses: []\n",
      "Suggestions: ['Consider developing the counterargument section further']\n",
      "\n",
      "\n",
      "structure:\n",
      "Strengths: ['Thoughtful organization of the essay from the importance of conservation to specific examples']\n",
      "Weaknesses: ['Consider developing the counterargument section further']\n",
      "Suggestions: ['Develop counterargument with more details or statistics']\n",
      "\n",
      "\n",
      "argumentation:\n",
      "Strengths: ['Use of examples like protecting natural habitats and global warming to solidify the argument']\n",
      "Weaknesses: ['Consider developing the counterargument section with more details or statistics to strengthen the position']\n",
      "Suggestions: ['Consider developing the counterargument section with more details or statistics to strengthen the position']\n",
      "\n",
      "\n",
      "evidence:\n",
      "Strengths: ['Use of examples to strengthen the argument']\n",
      "Weaknesses: []\n",
      "Suggestions: []\n",
      "\n",
      "\n",
      "conclusion:\n",
      "Strengths: ['Effective restatement of thesis and summary of main points']\n",
      "Weaknesses: []\n",
      "Suggestions: ['Ensure every sentence in the conclusion contributes to the argument or explanation']\n",
      "\n",
      "\n"
     ]
    }
   ],
   "source": [
    "for criteria, feedback in aggregated_feedback:\n",
    "\tprint(f\"{criteria}:\")\n",
    "\tprint(f\"Strengths: {feedback.strengths}\")\n",
    "\tprint(f\"Weaknesses: {feedback.weaknesses}\")\n",
    "\tprint(f\"Suggestions: {feedback.suggestions}\")\n",
    "\tprint(\"\\n\")"
   ]
  },
  {
   "cell_type": "code",
   "execution_count": null,
   "metadata": {},
   "outputs": [],
   "source": []
  }
 ],
 "metadata": {
  "kernelspec": {
   "display_name": "magicschool-backend-VB4VKBHD-py3.11",
   "language": "python",
   "name": "python3"
  },
  "language_info": {
   "codemirror_mode": {
    "name": "ipython",
    "version": 3
   },
   "file_extension": ".py",
   "mimetype": "text/x-python",
   "name": "python",
   "nbconvert_exporter": "python",
   "pygments_lexer": "ipython3",
   "version": "3.11.4"
  }
 },
 "nbformat": 4,
 "nbformat_minor": 2
}
