{
 "cells": [
  {
   "cell_type": "code",
   "execution_count": 1,
   "metadata": {},
   "outputs": [],
   "source": [
    "import os\n",
    "import json\n",
    "from openai import OpenAI\n",
    "import instructor\n",
    "from pydantic import BaseModel, Field\n",
    "from typing import List\n",
    "import numpy as np\n",
    "from utils import get_structured_feedback, remove_duplicates, Evaluation, CriteraFeedback"
   ]
  },
  {
   "cell_type": "code",
   "execution_count": 2,
   "metadata": {},
   "outputs": [],
   "source": [
    "openai_client = OpenAI(\n",
    "    api_key=os.environ.get(\"OPENAI_API_KEY\"),\n",
    ")\n",
    "\n",
    "instructor_client = instructor.from_openai(openai_client)"
   ]
  },
  {
   "cell_type": "code",
   "execution_count": 3,
   "metadata": {},
   "outputs": [],
   "source": [
    "# read messages from user1-messages.json\n",
    "with open(\"user1-messages.json\", \"r\") as f:\n",
    "\tchat_history = json.load(f)"
   ]
  },
  {
   "cell_type": "markdown",
   "metadata": {},
   "source": [
    "### Storing all evaluations from a conversation"
   ]
  },
  {
   "cell_type": "code",
   "execution_count": 4,
   "metadata": {},
   "outputs": [],
   "source": [
    "feedbacks = get_structured_feedback(instructor_client, chat_history)"
   ]
  },
  {
   "cell_type": "code",
   "execution_count": 5,
   "metadata": {},
   "outputs": [
    {
     "data": {
      "text/plain": [
       "[Evaluation(introduction=CriteraFeedback(strengths=['Effectively framing the argument in the introduction and conclusion'], weaknesses=[], suggestions=[]), structure=CriteraFeedback(strengths=['Clear and logical organization of the essay'], weaknesses=['Consider developing the counterargument section further', 'Include transition sentences between paragraphs for better flow'], suggestions=['Develop the details or statistics in the counterargument section', 'Add transition sentences between paragraphs']), argumentation=CriteraFeedback(strengths=['Use of examples to solidify the argument'], weaknesses=[], suggestions=['Practice using a variety of sentence structures to convey ideas more clearly']), evidence=CriteraFeedback(strengths=[], weaknesses=[], suggestions=[]), conclusion=CriteraFeedback(strengths=[], weaknesses=[], suggestions=[])),\n",
       " Evaluation(introduction=CriteraFeedback(strengths=['Effectively framing the argument in the introduction and conclusion'], weaknesses=[], suggestions=['Consider developing the counterargument section further', 'Add transition sentences between paragraphs for better flow']), structure=CriteraFeedback(strengths=['Clear and logical organization of the essay'], weaknesses=['Lack of transition sentences between paragraphs'], suggestions=['Add transition sentences between paragraphs to guide the reader']), argumentation=CriteraFeedback(strengths=['Thoughtful organization and addressing a counterargument'], weaknesses=['Counterargument section could be developed further'], suggestions=['Provide more details or statistics in the counterargument section']), evidence=CriteraFeedback(strengths=['Use of examples like protecting natural habitats and global warming impact'], weaknesses=[], suggestions=[]), conclusion=CriteraFeedback(strengths=[], weaknesses=[], suggestions=[])),\n",
       " Evaluation(introduction=CriteraFeedback(strengths=['Clear framing of the argument'], weaknesses=[], suggestions=[]), structure=CriteraFeedback(strengths=['Clear and logical organization'], weaknesses=['Expand on counterargument section', 'Improve transitions between paragraphs'], suggestions=['Develop counterargument with more details or statistics', 'Include transition sentences between paragraphs']), argumentation=CriteraFeedback(strengths=['Use of examples to support argument'], weaknesses=[], suggestions=[]), evidence=CriteraFeedback(strengths=['Use of examples like protecting natural habitats and impact on global warming'], weaknesses=[], suggestions=[]), conclusion=CriteraFeedback(strengths=['Effective restatement of thesis and summary of main points'], weaknesses=[], suggestions=[]))]"
      ]
     },
     "execution_count": 5,
     "metadata": {},
     "output_type": "execute_result"
    }
   ],
   "source": [
    "feedbacks"
   ]
  },
  {
   "cell_type": "markdown",
   "metadata": {},
   "source": [
    "### Combining evaluations from a chat session to remove duplicates"
   ]
  },
  {
   "cell_type": "code",
   "execution_count": 6,
   "metadata": {},
   "outputs": [],
   "source": [
    "def aggregate_feedback(feedbacks: List[Evaluation]):\n",
    "    # Initialize lists for each feedback category\n",
    "    aggregated = {\n",
    "        \"introduction\": {\"strengths\": [], \"weaknesses\": [], \"suggestions\": []},\n",
    "        \"structure\": {\"strengths\": [], \"weaknesses\": [], \"suggestions\": []},\n",
    "        \"argumentation\": {\"strengths\": [], \"weaknesses\": [], \"suggestions\": []},\n",
    "        \"evidence\": {\"strengths\": [], \"weaknesses\": [], \"suggestions\": []},\n",
    "        \"conclusion\": {\"strengths\": [], \"weaknesses\": [], \"suggestions\": []}\n",
    "    }\n",
    "    \n",
    "    # Aggregate all feedbacks\n",
    "    for feedback in feedbacks:\n",
    "        for key in aggregated:\n",
    "            critera_feedback = getattr(feedback, key)\n",
    "            aggregated[key]['strengths'].extend(critera_feedback.strengths)\n",
    "            aggregated[key]['weaknesses'].extend(critera_feedback.weaknesses)\n",
    "            aggregated[key]['suggestions'].extend(critera_feedback.suggestions)\n",
    "    \n",
    "    # Deduplicate lists\n",
    "    for key in aggregated:\n",
    "        for subkey in aggregated[key]:\n",
    "            aggregated[key][subkey] = remove_duplicates(openai_client, aggregated[key][subkey])\n",
    "\n",
    "    # Construct a new Evaluation object\n",
    "    return Evaluation(\n",
    "        introduction=CriteraFeedback(**aggregated['introduction']),\n",
    "        structure=CriteraFeedback(**aggregated['structure']),\n",
    "        argumentation=CriteraFeedback(**aggregated['argumentation']),\n",
    "        evidence=CriteraFeedback(**aggregated['evidence']),\n",
    "        conclusion=CriteraFeedback(**aggregated['conclusion'])\n",
    "    )"
   ]
  },
  {
   "cell_type": "code",
   "execution_count": 7,
   "metadata": {},
   "outputs": [
    {
     "name": "stderr",
     "output_type": "stream",
     "text": [
      "/Users/13point5/Library/Caches/pypoetry/virtualenvs/magicschool-backend-VB4VKBHD-py3.11/lib/python3.11/site-packages/numpy/core/fromnumeric.py:3504: RuntimeWarning: Mean of empty slice.\n",
      "  return _methods._mean(a, axis=axis, dtype=dtype,\n",
      "/Users/13point5/Library/Caches/pypoetry/virtualenvs/magicschool-backend-VB4VKBHD-py3.11/lib/python3.11/site-packages/numpy/core/_methods.py:129: RuntimeWarning: invalid value encountered in scalar divide\n",
      "  ret = ret.dtype.type(ret / rcount)\n",
      "/Users/13point5/Library/Caches/pypoetry/virtualenvs/magicschool-backend-VB4VKBHD-py3.11/lib/python3.11/site-packages/numpy/core/_methods.py:206: RuntimeWarning: Degrees of freedom <= 0 for slice\n",
      "  ret = _var(a, axis=axis, dtype=dtype, out=out, ddof=ddof,\n",
      "/Users/13point5/Library/Caches/pypoetry/virtualenvs/magicschool-backend-VB4VKBHD-py3.11/lib/python3.11/site-packages/numpy/core/_methods.py:163: RuntimeWarning: invalid value encountered in divide\n",
      "  arrmean = um.true_divide(arrmean, div, out=arrmean,\n",
      "/Users/13point5/Library/Caches/pypoetry/virtualenvs/magicschool-backend-VB4VKBHD-py3.11/lib/python3.11/site-packages/numpy/core/_methods.py:198: RuntimeWarning: invalid value encountered in scalar divide\n",
      "  ret = ret.dtype.type(ret / rcount)\n"
     ]
    }
   ],
   "source": [
    "aggregated_feedback = aggregate_feedback(feedbacks)"
   ]
  },
  {
   "cell_type": "markdown",
   "metadata": {},
   "source": [
    "### Semantic deduplication doesn't seem to work with a dynamic threshold"
   ]
  },
  {
   "cell_type": "code",
   "execution_count": 8,
   "metadata": {},
   "outputs": [
    {
     "name": "stdout",
     "output_type": "stream",
     "text": [
      "introduction:\n",
      "Strengths: ['Effectively framing the argument in the introduction and conclusion', 'Clear framing of the argument']\n",
      "Weaknesses: []\n",
      "Suggestions: ['Consider developing the counterargument section further']\n",
      "\n",
      "\n",
      "structure:\n",
      "Strengths: ['Clear and logical organization of the essay', 'Clear and logical organization']\n",
      "Weaknesses: ['Consider developing the counterargument section further', 'Include transition sentences between paragraphs for better flow']\n",
      "Suggestions: ['Develop the details or statistics in the counterargument section', 'Add transition sentences between paragraphs']\n",
      "\n",
      "\n",
      "argumentation:\n",
      "Strengths: ['Use of examples to solidify the argument', 'Thoughtful organization and addressing a counterargument']\n",
      "Weaknesses: ['Counterargument section could be developed further']\n",
      "Suggestions: ['Practice using a variety of sentence structures to convey ideas more clearly']\n",
      "\n",
      "\n",
      "evidence:\n",
      "Strengths: ['Use of examples like protecting natural habitats and global warming impact', 'Use of examples like protecting natural habitats and impact on global warming']\n",
      "Weaknesses: []\n",
      "Suggestions: []\n",
      "\n",
      "\n",
      "conclusion:\n",
      "Strengths: ['Effective restatement of thesis and summary of main points']\n",
      "Weaknesses: []\n",
      "Suggestions: []\n",
      "\n",
      "\n"
     ]
    }
   ],
   "source": [
    "for criteria, feedback in aggregated_feedback:\n",
    "\tprint(f\"{criteria}:\")\n",
    "\tprint(f\"Strengths: {feedback.strengths}\")\n",
    "\tprint(f\"Weaknesses: {feedback.weaknesses}\")\n",
    "\tprint(f\"Suggestions: {feedback.suggestions}\")\n",
    "\tprint(\"\\n\")"
   ]
  }
 ],
 "metadata": {
  "kernelspec": {
   "display_name": "magicschool-backend-VB4VKBHD-py3.11",
   "language": "python",
   "name": "python3"
  },
  "language_info": {
   "codemirror_mode": {
    "name": "ipython",
    "version": 3
   },
   "file_extension": ".py",
   "mimetype": "text/x-python",
   "name": "python",
   "nbconvert_exporter": "python",
   "pygments_lexer": "ipython3",
   "version": "3.11.4"
  }
 },
 "nbformat": 4,
 "nbformat_minor": 2
}
