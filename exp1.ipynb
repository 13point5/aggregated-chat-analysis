{
 "cells": [
  {
   "cell_type": "code",
   "execution_count": 19,
   "metadata": {},
   "outputs": [],
   "source": [
    "import os\n",
    "import json\n",
    "from openai import OpenAI\n",
    "import instructor\n",
    "from pydantic import BaseModel, Field\n",
    "from typing import List\n",
    "import numpy as np\n",
    "from utils import get_structured_feedback, remove_duplicates, Evaluation, CriteraFeedback"
   ]
  },
  {
   "cell_type": "code",
   "execution_count": 20,
   "metadata": {},
   "outputs": [],
   "source": [
    "openai_client = OpenAI(\n",
    "    api_key=os.environ.get(\"OPENAI_API_KEY\"),\n",
    ")\n",
    "\n",
    "instructor_client = instructor.from_openai(openai_client)"
   ]
  },
  {
   "cell_type": "code",
   "execution_count": 21,
   "metadata": {},
   "outputs": [
    {
     "data": {
      "text/plain": [
       "['Clear and logical organization of the essay']"
      ]
     },
     "execution_count": 21,
     "metadata": {},
     "output_type": "execute_result"
    }
   ],
   "source": [
    "remove_duplicates(openai_client=openai_client, strings=['Clear and logical organization of the essay', 'Clear and logical organization'])"
   ]
  },
  {
   "cell_type": "code",
   "execution_count": 22,
   "metadata": {},
   "outputs": [
    {
     "data": {
      "text/plain": [
       "['i am good']"
      ]
     },
     "execution_count": 22,
     "metadata": {},
     "output_type": "execute_result"
    }
   ],
   "source": [
    "remove_duplicates(openai_client=openai_client, strings=['i am good', 'i am bad'])"
   ]
  },
  {
   "cell_type": "code",
   "execution_count": 4,
   "metadata": {},
   "outputs": [],
   "source": [
    "# read messages from user1-messages.json\n",
    "with open(\"user1-messages.json\", \"r\") as f:\n",
    "\tchat_history = json.load(f)"
   ]
  },
  {
   "cell_type": "code",
   "execution_count": 5,
   "metadata": {},
   "outputs": [],
   "source": [
    "feedbacks = get_structured_feedback(instructor_client, chat_history)"
   ]
  },
  {
   "cell_type": "markdown",
   "metadata": {},
   "source": [
    "### Combining evaluations from a chat session to remove duplicates"
   ]
  },
  {
   "cell_type": "code",
   "execution_count": 6,
   "metadata": {},
   "outputs": [],
   "source": [
    "def aggregate_feedback(feedbacks: List[Evaluation]):\n",
    "    # Initialize lists for each feedback category\n",
    "    aggregated = {\n",
    "        \"introduction\": {\"strengths\": [], \"weaknesses\": [], \"suggestions\": []},\n",
    "        \"structure\": {\"strengths\": [], \"weaknesses\": [], \"suggestions\": []},\n",
    "        \"argumentation\": {\"strengths\": [], \"weaknesses\": [], \"suggestions\": []},\n",
    "        \"evidence\": {\"strengths\": [], \"weaknesses\": [], \"suggestions\": []},\n",
    "        \"conclusion\": {\"strengths\": [], \"weaknesses\": [], \"suggestions\": []}\n",
    "    }\n",
    "    \n",
    "    # Aggregate all feedbacks\n",
    "    for feedback in feedbacks:\n",
    "        for key in aggregated:\n",
    "            critera_feedback = getattr(feedback, key)\n",
    "            aggregated[key]['strengths'].extend(critera_feedback.strengths)\n",
    "            aggregated[key]['weaknesses'].extend(critera_feedback.weaknesses)\n",
    "            aggregated[key]['suggestions'].extend(critera_feedback.suggestions)\n",
    "    \n",
    "    # Deduplicate lists\n",
    "    for key in aggregated:\n",
    "        for subkey in aggregated[key]:\n",
    "            aggregated[key][subkey] = remove_duplicates(openai_client, aggregated[key][subkey])\n",
    "\n",
    "    # Construct a new Evaluation object\n",
    "    return Evaluation(\n",
    "        introduction=CriteraFeedback(**aggregated['introduction']),\n",
    "        structure=CriteraFeedback(**aggregated['structure']),\n",
    "        argumentation=CriteraFeedback(**aggregated['argumentation']),\n",
    "        evidence=CriteraFeedback(**aggregated['evidence']),\n",
    "        conclusion=CriteraFeedback(**aggregated['conclusion'])\n",
    "    )"
   ]
  },
  {
   "cell_type": "code",
   "execution_count": 7,
   "metadata": {},
   "outputs": [
    {
     "name": "stderr",
     "output_type": "stream",
     "text": [
      "/Users/13point5/Library/Caches/pypoetry/virtualenvs/magicschool-backend-VB4VKBHD-py3.11/lib/python3.11/site-packages/numpy/core/fromnumeric.py:3504: RuntimeWarning: Mean of empty slice.\n",
      "  return _methods._mean(a, axis=axis, dtype=dtype,\n",
      "/Users/13point5/Library/Caches/pypoetry/virtualenvs/magicschool-backend-VB4VKBHD-py3.11/lib/python3.11/site-packages/numpy/core/_methods.py:129: RuntimeWarning: invalid value encountered in scalar divide\n",
      "  ret = ret.dtype.type(ret / rcount)\n",
      "/Users/13point5/Library/Caches/pypoetry/virtualenvs/magicschool-backend-VB4VKBHD-py3.11/lib/python3.11/site-packages/numpy/core/_methods.py:206: RuntimeWarning: Degrees of freedom <= 0 for slice\n",
      "  ret = _var(a, axis=axis, dtype=dtype, out=out, ddof=ddof,\n",
      "/Users/13point5/Library/Caches/pypoetry/virtualenvs/magicschool-backend-VB4VKBHD-py3.11/lib/python3.11/site-packages/numpy/core/_methods.py:163: RuntimeWarning: invalid value encountered in divide\n",
      "  arrmean = um.true_divide(arrmean, div, out=arrmean,\n",
      "/Users/13point5/Library/Caches/pypoetry/virtualenvs/magicschool-backend-VB4VKBHD-py3.11/lib/python3.11/site-packages/numpy/core/_methods.py:198: RuntimeWarning: invalid value encountered in scalar divide\n",
      "  ret = ret.dtype.type(ret / rcount)\n"
     ]
    }
   ],
   "source": [
    "aggregated_feedback = aggregate_feedback(feedbacks)"
   ]
  },
  {
   "cell_type": "code",
   "execution_count": 8,
   "metadata": {},
   "outputs": [
    {
     "name": "stdout",
     "output_type": "stream",
     "text": [
      "introduction:\n",
      "Strengths: ['Effectively frames the argument and makes the stance clear and compelling']\n",
      "Weaknesses: []\n",
      "Suggestions: []\n",
      "\n",
      "\n",
      "structure:\n",
      "Strengths: ['Clear and logical structuring of the essay']\n",
      "Weaknesses: ['Consider developing the counterargument section with more details or statistics about economic development']\n",
      "Suggestions: ['More depth in certain areas']\n",
      "\n",
      "\n",
      "argumentation:\n",
      "Strengths: ['Use of examples like protecting natural habitats and the impact on global warming']\n",
      "Weaknesses: ['Lack of depth in the counterargument section']\n",
      "Suggestions: ['Consider developing the counterargument section with more details or statistics about economic development']\n",
      "\n",
      "\n",
      "evidence:\n",
      "Strengths: ['Use of examples to solidify the argument and make the essay more persuasive']\n",
      "Weaknesses: []\n",
      "Suggestions: []\n",
      "\n",
      "\n",
      "conclusion:\n",
      "Strengths: ['Effectively restating the thesis and summarizing main points']\n",
      "Weaknesses: []\n",
      "Suggestions: ['More depth in certain areas']\n",
      "\n",
      "\n"
     ]
    }
   ],
   "source": [
    "for criteria, feedback in aggregated_feedback:\n",
    "\tprint(f\"{criteria}:\")\n",
    "\tprint(f\"Strengths: {feedback.strengths}\")\n",
    "\tprint(f\"Weaknesses: {feedback.weaknesses}\")\n",
    "\tprint(f\"Suggestions: {feedback.suggestions}\")\n",
    "\tprint(\"\\n\")"
   ]
  },
  {
   "cell_type": "code",
   "execution_count": 9,
   "metadata": {},
   "outputs": [],
   "source": [
    "# read messages from user1-messages.json\n",
    "with open(\"user2-messages.json\", \"r\") as f:\n",
    "\tchat_history_user2 = json.load(f)"
   ]
  },
  {
   "cell_type": "code",
   "execution_count": 10,
   "metadata": {},
   "outputs": [],
   "source": [
    "feedbacks2 = get_structured_feedback(instructor_client, chat_history_user2)"
   ]
  },
  {
   "cell_type": "code",
   "execution_count": 11,
   "metadata": {},
   "outputs": [],
   "source": [
    "aggregated_feedback2 = aggregate_feedback(feedbacks2)"
   ]
  },
  {
   "cell_type": "code",
   "execution_count": 13,
   "metadata": {},
   "outputs": [
    {
     "name": "stdout",
     "output_type": "stream",
     "text": [
      "introduction:\n",
      "Strengths: ['Relatable and engaging language used to discuss environmental conservation']\n",
      "Weaknesses: ['Lack of factual information and statistics to strengthen the argument']\n",
      "Suggestions: ['Incorporate more factual information and statistics for a persuasive argument']\n",
      "\n",
      "\n",
      "structure:\n",
      "Strengths: []\n",
      "Weaknesses: ['Lack of clear structure with introductions, body paragraphs, and conclusions']\n",
      "Suggestions: ['Structure the essay with clear introductions, body paragraphs, and conclusions for improved flow and readability']\n",
      "\n",
      "\n",
      "argumentation:\n",
      "Strengths: []\n",
      "Weaknesses: []\n",
      "Suggestions: ['Incorporate research to make the argument more persuasive']\n",
      "\n",
      "\n",
      "evidence:\n",
      "Strengths: []\n",
      "Weaknesses: []\n",
      "Suggestions: []\n",
      "\n",
      "\n",
      "conclusion:\n",
      "Strengths: []\n",
      "Weaknesses: []\n",
      "Suggestions: []\n",
      "\n",
      "\n"
     ]
    }
   ],
   "source": [
    "for criteria, feedback in aggregated_feedback2:\n",
    "\tprint(f\"{criteria}:\")\n",
    "\tprint(f\"Strengths: {feedback.strengths}\")\n",
    "\tprint(f\"Weaknesses: {feedback.weaknesses}\")\n",
    "\tprint(f\"Suggestions: {feedback.suggestions}\")\n",
    "\tprint(\"\\n\")"
   ]
  },
  {
   "cell_type": "code",
   "execution_count": 14,
   "metadata": {},
   "outputs": [],
   "source": [
    "all_aggregated_feedbacks = [aggregated_feedback, aggregated_feedback2]"
   ]
  },
  {
   "cell_type": "code",
   "execution_count": 16,
   "metadata": {},
   "outputs": [
    {
     "name": "stderr",
     "output_type": "stream",
     "text": [
      "/Users/13point5/Library/Caches/pypoetry/virtualenvs/magicschool-backend-VB4VKBHD-py3.11/lib/python3.11/site-packages/numpy/core/fromnumeric.py:3504: RuntimeWarning: Mean of empty slice.\n",
      "  return _methods._mean(a, axis=axis, dtype=dtype,\n",
      "/Users/13point5/Library/Caches/pypoetry/virtualenvs/magicschool-backend-VB4VKBHD-py3.11/lib/python3.11/site-packages/numpy/core/_methods.py:129: RuntimeWarning: invalid value encountered in scalar divide\n",
      "  ret = ret.dtype.type(ret / rcount)\n",
      "/Users/13point5/Library/Caches/pypoetry/virtualenvs/magicschool-backend-VB4VKBHD-py3.11/lib/python3.11/site-packages/numpy/core/_methods.py:206: RuntimeWarning: Degrees of freedom <= 0 for slice\n",
      "  ret = _var(a, axis=axis, dtype=dtype, out=out, ddof=ddof,\n",
      "/Users/13point5/Library/Caches/pypoetry/virtualenvs/magicschool-backend-VB4VKBHD-py3.11/lib/python3.11/site-packages/numpy/core/_methods.py:163: RuntimeWarning: invalid value encountered in divide\n",
      "  arrmean = um.true_divide(arrmean, div, out=arrmean,\n",
      "/Users/13point5/Library/Caches/pypoetry/virtualenvs/magicschool-backend-VB4VKBHD-py3.11/lib/python3.11/site-packages/numpy/core/_methods.py:198: RuntimeWarning: invalid value encountered in scalar divide\n",
      "  ret = ret.dtype.type(ret / rcount)\n"
     ]
    }
   ],
   "source": [
    "res = aggregate_feedback(all_aggregated_feedbacks)"
   ]
  },
  {
   "cell_type": "code",
   "execution_count": 17,
   "metadata": {},
   "outputs": [
    {
     "name": "stdout",
     "output_type": "stream",
     "text": [
      "introduction:\n",
      "Strengths: ['Effectively frames the argument and makes the stance clear and compelling']\n",
      "Weaknesses: ['Lack of factual information and statistics to strengthen the argument']\n",
      "Suggestions: ['Incorporate more factual information and statistics for a persuasive argument']\n",
      "\n",
      "\n",
      "structure:\n",
      "Strengths: ['Clear and logical structuring of the essay']\n",
      "Weaknesses: ['Consider developing the counterargument section with more details or statistics about economic development']\n",
      "Suggestions: ['More depth in certain areas']\n",
      "\n",
      "\n",
      "argumentation:\n",
      "Strengths: ['Use of examples like protecting natural habitats and the impact on global warming']\n",
      "Weaknesses: ['Lack of depth in the counterargument section']\n",
      "Suggestions: ['Consider developing the counterargument section with more details or statistics about economic development']\n",
      "\n",
      "\n",
      "evidence:\n",
      "Strengths: ['Use of examples to solidify the argument and make the essay more persuasive']\n",
      "Weaknesses: []\n",
      "Suggestions: []\n",
      "\n",
      "\n",
      "conclusion:\n",
      "Strengths: ['Effectively restating the thesis and summarizing main points']\n",
      "Weaknesses: []\n",
      "Suggestions: ['More depth in certain areas']\n",
      "\n",
      "\n"
     ]
    }
   ],
   "source": [
    "for criteria, feedback in res:\n",
    "\tprint(f\"{criteria}:\")\n",
    "\tprint(f\"Strengths: {feedback.strengths}\")\n",
    "\tprint(f\"Weaknesses: {feedback.weaknesses}\")\n",
    "\tprint(f\"Suggestions: {feedback.suggestions}\")\n",
    "\tprint(\"\\n\")"
   ]
  },
  {
   "cell_type": "code",
   "execution_count": 18,
   "metadata": {},
   "outputs": [
    {
     "data": {
      "text/plain": [
       "['i am good']"
      ]
     },
     "execution_count": 18,
     "metadata": {},
     "output_type": "execute_result"
    }
   ],
   "source": [
    "remove_duplicates(openai_client, ['i am good', 'i am bad'])"
   ]
  },
  {
   "cell_type": "code",
   "execution_count": null,
   "metadata": {},
   "outputs": [],
   "source": []
  }
 ],
 "metadata": {
  "kernelspec": {
   "display_name": "magicschool-backend-VB4VKBHD-py3.11",
   "language": "python",
   "name": "python3"
  },
  "language_info": {
   "codemirror_mode": {
    "name": "ipython",
    "version": 3
   },
   "file_extension": ".py",
   "mimetype": "text/x-python",
   "name": "python",
   "nbconvert_exporter": "python",
   "pygments_lexer": "ipython3",
   "version": "3.11.4"
  }
 },
 "nbformat": 4,
 "nbformat_minor": 2
}
